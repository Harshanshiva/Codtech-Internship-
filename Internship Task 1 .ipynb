{
 "cells": [
  {
   "cell_type": "code",
   "execution_count": 1,
   "id": "18cee75b-ebef-4488-a21d-de277908e045",
   "metadata": {},
   "outputs": [],
   "source": [
    "import dask.dataframe as dk"
   ]
  },
  {
   "cell_type": "code",
   "execution_count": 3,
   "id": "cc41298a-9267-4ef0-b13a-cc39f9c2f576",
   "metadata": {},
   "outputs": [],
   "source": [
    "df = dk.read_csv(\"data_analysis.csv\", assume_missing=True)"
   ]
  },
  {
   "cell_type": "code",
   "execution_count": 4,
   "id": "a581b4a4-a7ec-48d7-9416-968ed8f1be37",
   "metadata": {},
   "outputs": [
    {
     "data": {
      "text/html": [
       "<div>\n",
       "<style scoped>\n",
       "    .dataframe tbody tr th:only-of-type {\n",
       "        vertical-align: middle;\n",
       "    }\n",
       "\n",
       "    .dataframe tbody tr th {\n",
       "        vertical-align: top;\n",
       "    }\n",
       "\n",
       "    .dataframe thead th {\n",
       "        text-align: right;\n",
       "    }\n",
       "</style>\n",
       "<table border=\"1\" class=\"dataframe\">\n",
       "  <thead>\n",
       "    <tr style=\"text-align: right;\">\n",
       "      <th></th>\n",
       "      <th>ID</th>\n",
       "      <th>Name</th>\n",
       "      <th>Age</th>\n",
       "      <th>Gender</th>\n",
       "      <th>Income</th>\n",
       "      <th>City</th>\n",
       "      <th>Purchase_Amount</th>\n",
       "      <th>Is_Member</th>\n",
       "      <th>Signup_Date</th>\n",
       "    </tr>\n",
       "  </thead>\n",
       "  <tbody>\n",
       "    <tr>\n",
       "      <th>0</th>\n",
       "      <td>1.0</td>\n",
       "      <td>Person_1</td>\n",
       "      <td>56.0</td>\n",
       "      <td>Male</td>\n",
       "      <td>49034.33</td>\n",
       "      <td>Los Angeles</td>\n",
       "      <td>811.76</td>\n",
       "      <td>1.0</td>\n",
       "      <td>2020-02-10</td>\n",
       "    </tr>\n",
       "    <tr>\n",
       "      <th>1</th>\n",
       "      <td>2.0</td>\n",
       "      <td>Person_2</td>\n",
       "      <td>46.0</td>\n",
       "      <td>Female</td>\n",
       "      <td>55173.54</td>\n",
       "      <td>New York</td>\n",
       "      <td>1289.13</td>\n",
       "      <td>1.0</td>\n",
       "      <td>2022-01-09</td>\n",
       "    </tr>\n",
       "    <tr>\n",
       "      <th>2</th>\n",
       "      <td>3.0</td>\n",
       "      <td>Person_3</td>\n",
       "      <td>32.0</td>\n",
       "      <td>Male</td>\n",
       "      <td>48798.69</td>\n",
       "      <td>New York</td>\n",
       "      <td>1055.96</td>\n",
       "      <td>0.0</td>\n",
       "      <td>2024-09-23</td>\n",
       "    </tr>\n",
       "    <tr>\n",
       "      <th>3</th>\n",
       "      <td>4.0</td>\n",
       "      <td>Person_4</td>\n",
       "      <td>25.0</td>\n",
       "      <td>Other</td>\n",
       "      <td>46379.30</td>\n",
       "      <td>New York</td>\n",
       "      <td>1727.33</td>\n",
       "      <td>0.0</td>\n",
       "      <td>2021-05-16</td>\n",
       "    </tr>\n",
       "    <tr>\n",
       "      <th>4</th>\n",
       "      <td>5.0</td>\n",
       "      <td>Person_5</td>\n",
       "      <td>38.0</td>\n",
       "      <td>Other</td>\n",
       "      <td>71502.73</td>\n",
       "      <td>Chicago</td>\n",
       "      <td>1351.52</td>\n",
       "      <td>0.0</td>\n",
       "      <td>2022-08-16</td>\n",
       "    </tr>\n",
       "  </tbody>\n",
       "</table>\n",
       "</div>"
      ],
      "text/plain": [
       "    ID      Name   Age  Gender    Income         City  Purchase_Amount  \\\n",
       "0  1.0  Person_1  56.0    Male  49034.33  Los Angeles           811.76   \n",
       "1  2.0  Person_2  46.0  Female  55173.54     New York          1289.13   \n",
       "2  3.0  Person_3  32.0    Male  48798.69     New York          1055.96   \n",
       "3  4.0  Person_4  25.0   Other  46379.30     New York          1727.33   \n",
       "4  5.0  Person_5  38.0   Other  71502.73      Chicago          1351.52   \n",
       "\n",
       "   Is_Member Signup_Date  \n",
       "0        1.0  2020-02-10  \n",
       "1        1.0  2022-01-09  \n",
       "2        0.0  2024-09-23  \n",
       "3        0.0  2021-05-16  \n",
       "4        0.0  2022-08-16  "
      ]
     },
     "execution_count": 4,
     "metadata": {},
     "output_type": "execute_result"
    }
   ],
   "source": [
    "df.head()"
   ]
  },
  {
   "cell_type": "code",
   "execution_count": 5,
   "id": "f1128dd2-439f-43b6-877b-ffd0a1f42e2d",
   "metadata": {},
   "outputs": [
    {
     "name": "stdout",
     "output_type": "stream",
     "text": [
      "ID                         float64\n",
      "Name               string[pyarrow]\n",
      "Age                        float64\n",
      "Gender             string[pyarrow]\n",
      "Income                     float64\n",
      "City               string[pyarrow]\n",
      "Purchase_Amount            float64\n",
      "Is_Member                  float64\n",
      "Signup_Date        string[pyarrow]\n",
      "dtype: object\n"
     ]
    }
   ],
   "source": [
    "print(df.dtypes)"
   ]
  },
  {
   "cell_type": "code",
   "execution_count": 6,
   "id": "4399ce46-66f7-427f-856d-b73123474b5b",
   "metadata": {},
   "outputs": [
    {
     "name": "stdout",
     "output_type": "stream",
     "text": [
      "Row count: 100\n"
     ]
    }
   ],
   "source": [
    "print(\"Row count:\", df.shape[0].compute())"
   ]
  },
  {
   "cell_type": "code",
   "execution_count": 7,
   "id": "e405ccf6-6dec-4c51-b372-3b6ea0c6d565",
   "metadata": {},
   "outputs": [
    {
     "name": "stdout",
     "output_type": "stream",
     "text": [
      "Index(['ID', 'Name', 'Age', 'Gender', 'Income', 'City', 'Purchase_Amount',\n",
      "       'Is_Member', 'Signup_Date'],\n",
      "      dtype='object')\n"
     ]
    }
   ],
   "source": [
    "print (df.columns)"
   ]
  },
  {
   "cell_type": "code",
   "execution_count": 8,
   "id": "f1715614-1721-4f19-b7fb-3c4c925e2ba2",
   "metadata": {},
   "outputs": [
    {
     "data": {
      "text/plain": [
       "Dask Series Structure:\n",
       "npartitions=1\n",
       "    int64\n",
       "      ...\n",
       "Name: count, dtype: int64\n",
       "Dask Name: value-counts-agg, 5 graph layers"
      ]
     },
     "execution_count": 8,
     "metadata": {},
     "output_type": "execute_result"
    }
   ],
   "source": [
    "df['ID'].value_counts() # count how many ID"
   ]
  },
  {
   "cell_type": "code",
   "execution_count": 10,
   "id": "9e81695e-aad1-449c-8839-644a05a1ed1d",
   "metadata": {},
   "outputs": [
    {
     "data": {
      "text/plain": [
       "Gender\n",
       "Other     37\n",
       "Male      36\n",
       "Female    27\n",
       "Name: count, dtype: int64[pyarrow]"
      ]
     },
     "execution_count": 10,
     "metadata": {},
     "output_type": "execute_result"
    }
   ],
   "source": [
    "df['Gender'].value_counts().compute() #how many male, female, and others"
   ]
  },
  {
   "cell_type": "code",
   "execution_count": 17,
   "id": "380e6cc3-1f02-4619-81cc-27ad8887942a",
   "metadata": {},
   "outputs": [
    {
     "name": "stdout",
     "output_type": "stream",
     "text": [
      "Gender\n",
      "Female    49957.452222\n",
      "Male      48169.763056\n",
      "Other     52834.087027\n",
      "Name: Income, dtype: float64\n"
     ]
    }
   ],
   "source": [
    "avg_income_by_gender = df.groupby('Gender')['Income'].mean().compute()\n",
    "print(avg_income_by_gender) #average income by gender "
   ]
  },
  {
   "cell_type": "code",
   "execution_count": 18,
   "id": "e47e86cd-7c78-4b09-bfae-4e0e9ac5473b",
   "metadata": {},
   "outputs": [],
   "source": [
    "import matplotlib.pyplot as plt\n",
    "import seaborn as sns\n",
    "import pandas as pd"
   ]
  },
  {
   "cell_type": "code",
   "execution_count": 22,
   "id": "b85bf934-9c02-4837-8bc4-41706474c5d8",
   "metadata": {
    "scrolled": true
   },
   "outputs": [
    {
     "data": {
      "image/png": "[encoded data removed]",
      "text/plain": [
       "<Figure size 1000x500 with 1 Axes>"
      ]
     },
     "metadata": {},
     "output_type": "display_data"
    }
   ],
   "source": [
    "avg_income_by_gender = df.groupby('Gender')['Income'].mean().compute().sort_values(ascending=False)\n",
    "\n",
    "plt.figure(figsize=(10,5))\n",
    "avg_income_by_gender.plot(kind='bar', color='blue')\n",
    "plt.title('Gender')\n",
    "plt.ylabel('Income')\n",
    "plt.xticks(rotation=45, ha='right')\n",
    "plt.tight_layout()\n",
    "plt.show() # barchart for Income by gender"
   ]
  },
  {
   "cell_type": "code",
   "execution_count": null,
   "id": "568f90ed-3e27-4a5a-86ca-541574ea1b5a",
   "metadata": {},
   "outputs": [],
   "source": []
  }
 ],
 "metadata": {
  "kernelspec": {
   "display_name": "anaconda-2024.02-py310",
   "language": "python",
   "name": "conda-env-anaconda-2024.02-py310-py"
  },
  "language_info": {
   "codemirror_mode": {
    "name": "ipython",
    "version": 3
   },
   "file_extension": ".py",
   "mimetype": "text/x-python",
   "name": "python",
   "nbconvert_exporter": "python",
   "pygments_lexer": "ipython3",
   "version": "3.10.14"
  }
 },
 "nbformat": 4,
 "nbformat_minor": 5
}
